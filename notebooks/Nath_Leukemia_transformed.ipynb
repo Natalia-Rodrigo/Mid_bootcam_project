import numpy as np
import pandas as pd
import matplotlib.pyplot as plt
import seaborn as sns
from scipy.stats import t, iqr 
import functions as fc