{
 "cells": [
  {
   "cell_type": "code",
   "execution_count": null,
   "id": "972a96a4",
   "metadata": {},
   "outputs": [],
   "source": [
    "import pandas as pd\n",
    "import numpy as np\n",
    "import seaborn as sns\n",
    "import matplotlib.pyplot as plt\n",
    "import functions\n",
    "%matplotlib inline\n"
   ]
  },
  {
   "cell_type": "markdown",
   "id": "4c8ecef0-0f85-49d8-83d6-3a13bfc6455e",
   "metadata": {},
   "source": [
    "# General information:\n",
    "The midbootcamp project: Can we predict cancer using gene expression profile?\n",
    "\n",
    "# To approach this objective:\n",
    "1. select gene expression datasets for different types of cancers\n",
    "2. Data checking, cleaning, transform if needed\n",
    "3. Identify genes that are differentially expressed (called DEGs) in cancer samples vs normal samples. Using two samples t-test at p_sig = 0.05\n",
    "4. Check and excluding genes that are highly correlated among the identified DEGs subset with a threshold for exluding at 0.95\n",
    "5. Split and train model on working datasets:\n",
    "    * using transformed data (using quantile transformation) vs non-transformed data \n",
    "6. Validation:\n",
    "   * on the whole (train + test) dataset\n",
    "   * using a new dataset of the same cancer type\n",
    "   * calculation all validation metrics: precision, accuracy, recel, F1, cohen_kappa_score\n",
    "     \n",
    "# From the GEO database, we selected 3 expression profiling datasets for 3 types of cancers: prostate, breats, leukemia\n",
    "1. link for download gene expression dataset: https://sbcb.inf.ufrgs.br/cumida\n",
    "2. every dataset has it unique identifier as accession number GSE\n",
    "3. For breast cancer dataset, accession number is GSE22820\n",
    "    Description: it is expression profiling by array, generated from 176 primary breast cancer patients and 10 normal breast samples.\n",
    "NOTE: however, when loading this dataset, there are only 129 primary breast cancer patients and 10 normal breast samples.\n",
    "This should not affect the analysis.\n",
    "4. since these datasets are repositories from different research groups to NCBI database (GEO), the format and setup is already standardized. Therefore, most likely, it will not require a cleaning process.\n",
    "     "
   ]
  },
  {
   "cell_type": "code",
   "execution_count": null,
   "id": "5389d30d",
   "metadata": {
    "scrolled": true
   },
   "outputs": [],
   "source": [
    "# load the gene expression dataset GSE22820\n",
    "\n",
    "path = '/Users/minhnguyen/IronHack2023-2024/Bootcamp/Labs/5_Mid_bootcamp_project_venv/data/Breast_GSE22820.csv'\n",
    "df = pd.read_csv(path)\n",
    "df.head(10)"
   ]
  },
  {
   "cell_type": "code",
   "execution_count": null,
   "id": "7a6d13a2",
   "metadata": {
    "scrolled": true
   },
   "outputs": [],
   "source": [
    "df.isnull().sum()"
   ]
  },
  {
   "cell_type": "code",
   "execution_count": null,
   "id": "a79c175f-76e4-482f-b02f-a34ef56ca00e",
   "metadata": {},
   "outputs": [],
   "source": [
    "# change data format using melt, so that can be used in boxplot\n",
    "\n",
    "melted_data = df.melt(id_vars=['samples', 'type'], var_name='gene', value_name='expression')\n",
    "melted_data\n",
    "    "
   ]
  },
  {
   "cell_type": "code",
   "execution_count": null,
   "id": "fb467ec8-3872-4af3-b10b-215576925021",
   "metadata": {},
   "outputs": [],
   "source": [
    "\n",
    "# Create a boxplot with melted data\n",
    "\n",
    "plt.figure(figsize=(20, 8))  \n",
    "sns.boxplot(x='samples', y='expression', hue = 'type',  data=melted_data, width = 0.3)\n",
    "plt.xticks(rotation=90)  \n",
    "\n",
    "# Show the plot\n",
    "plt.tight_layout()\n",
    "plt.show()\n"
   ]
  },
  {
   "cell_type": "markdown",
   "id": "1da5528b-0b66-4915-a631-323e7f26c926",
   "metadata": {},
   "source": [
    "# Testing 1: apply log transformation on original expression value"
   ]
  },
  {
   "cell_type": "code",
   "execution_count": null,
   "id": "3b1d80a2-37bc-47c7-94d7-18ab0f0ae3f9",
   "metadata": {},
   "outputs": [],
   "source": [
    "# apply log transformation to data\n",
    "melted_data_log = melted_data.copy()\n",
    "melted_data_log['expression'] = melted_data_log['expression'].apply(lambda x: np.log10(x))\n",
    "melted_data_log.head()"
   ]
  },
  {
   "cell_type": "code",
   "execution_count": null,
   "id": "0c9ac834-dd86-4653-af6c-d46565ef744a",
   "metadata": {},
   "outputs": [],
   "source": [
    "# plot log transformed data on boxplot\n",
    "\n",
    "plt.figure(figsize=(20, 8))  # Adjust figure size if needed\n",
    "sns.boxplot(x='samples', y='expression', hue = 'type',  data=melted_data_log, width = 0.3)\n",
    "plt.xticks(rotation=90)  # Rotate x-axis labels for better readability\n",
    "\n",
    "# Show the plot\n",
    "plt.tight_layout()\n",
    "plt.show()"
   ]
  },
  {
   "cell_type": "markdown",
   "id": "400d1e7a-21ff-43a0-afea-eadcb25509ae",
   "metadata": {},
   "source": [
    "# Testing 2: apply QuantileTransformation, to stabilize variance within each sample's gene profile"
   ]
  },
  {
   "cell_type": "code",
   "execution_count": null,
   "id": "b817891f-13f5-40bb-b4dd-30e286cc1b32",
   "metadata": {},
   "outputs": [],
   "source": [
    "# make a copy of df\n",
    "df_transformed = df.copy()\n",
    "\n",
    "# apply quantile transformation to data\n",
    "\n",
    "from sklearn.preprocessing import QuantileTransformer\n",
    "qt = QuantileTransformer (output_distribution ='normal')\n",
    "qt.fit(df[df.columns[2:]])\n",
    "df_transformed[df.columns[2:]] = qt.transform(df[df.columns[2:]])\n",
    "#melted_data_log['expression'] = melted_data_log['expression'].apply(lambda x: np.log10(x))\n",
    "#melted_data_log.head()"
   ]
  },
  {
   "cell_type": "code",
   "execution_count": null,
   "id": "3d80326f-eaa3-42e6-adbd-5f885a65b01d",
   "metadata": {},
   "outputs": [],
   "source": [
    "melted_df_transformed = df_transformed.melt(id_vars=['samples', 'type'], var_name='gene', value_name='expression')\n",
    "melted_df_transformed"
   ]
  },
  {
   "cell_type": "code",
   "execution_count": null,
   "id": "de1a3479-2f32-4fa7-ab9e-a83b50281450",
   "metadata": {},
   "outputs": [],
   "source": [
    "# plot log transformed data on boxplot\n",
    "\n",
    "plt.figure(figsize=(20, 8))  # Adjust figure size if needed\n",
    "sns.boxplot(x='samples', y='expression', hue = 'type',  data=melted_df_transformed, width = 0.3)\n",
    "plt.xticks(rotation=90)  # Rotate x-axis labels for better readability\n",
    "\n",
    "# Show the plot\n",
    "plt.tight_layout()\n",
    "plt.show()"
   ]
  },
  {
   "cell_type": "code",
   "execution_count": null,
   "id": "374ed84a",
   "metadata": {},
   "outputs": [],
   "source": [
    "df.iloc[0,3:].max()"
   ]
  },
  {
   "cell_type": "markdown",
   "id": "8bdc3afe-1b3d-4d96-9498-c6665a0fe06e",
   "metadata": {
    "scrolled": true
   },
   "source": [
    "normal = df[df['type'] == 'normal']\n",
    "df.groupby(df['type']).mean()"
   ]
  },
  {
   "cell_type": "code",
   "execution_count": null,
   "id": "df8a9b0c",
   "metadata": {},
   "outputs": [],
   "source": [
    "import scipy.stats as st"
   ]
  },
  {
   "cell_type": "code",
   "execution_count": null,
   "id": "19f8fc0f",
   "metadata": {},
   "outputs": [],
   "source": [
    "df_cancer = df[df['type'] == \"primary_breast_cancer\"]\n",
    "df_normal = df[df['type'] == \"normal\"]\n",
    "df_cancer.head()\n",
    "display(df_cancer.shape)\n",
    "df_normal.head()\n",
    "display(df_normal.shape)"
   ]
  },
  {
   "cell_type": "code",
   "execution_count": null,
   "id": "f29ce3e4-0ea8-44f5-8199-153b160e129a",
   "metadata": {},
   "outputs": [],
   "source": [
    "df_normal_melted = df_normal.melt(id_vars=['samples', 'type'], var_name='gene', value_name='expression')\n",
    "sns.boxplot(df_normal_melted, x='samples', y='expression')\n",
    "plt.xticks(rotation=90)\n",
    "plt.tight_layout()\n",
    "plt.show()"
   ]
  },
  {
   "cell_type": "code",
   "execution_count": null,
   "id": "4c524fa1",
   "metadata": {},
   "outputs": [],
   "source": [
    "fig, ax = plt.subplots(5,2, figsize = (10,5 * 5))\n",
    "row_index = 0\n",
    "col_index = 0\n",
    "for i in range(10):\n",
    "    sns.histplot(df_normal.iloc[i,3:], ax = ax[row_index, col_index])\n",
    "    ax[row_index, col_index].set_xlabel(df_normal.iloc[i,0])\n",
    "    col_index +=1\n",
    "    if col_index >1:\n",
    "        col_index = 0\n",
    "        row_index +=1\n",
    "plt.tight_layout()\n",
    "plt.show()\n"
   ]
  },
  {
   "cell_type": "code",
   "execution_count": null,
   "id": "536d8983",
   "metadata": {},
   "outputs": [],
   "source": [
    "fig, ax = plt.subplots(5,2, figsize = (10,5 * 5))\n",
    "row_index = 0\n",
    "col_index = 0\n",
    "for i in range(10):\n",
    "    sns.histplot(df_cancer.iloc[i,3:], ax = ax[row_index, col_index])\n",
    "    ax[row_index, col_index].set_xlabel(df_normal.iloc[i,0])\n",
    "    col_index +=1\n",
    "    if col_index >1:\n",
    "        col_index = 0\n",
    "        row_index +=1\n",
    "plt.tight_layout()\n",
    "plt.show()\n",
    "    "
   ]
  },
  {
   "cell_type": "code",
   "execution_count": null,
   "id": "3c430edd",
   "metadata": {},
   "outputs": [],
   "source": [
    "df_cancer.columns[2:]"
   ]
  },
  {
   "cell_type": "code",
   "execution_count": null,
   "id": "0baa0309",
   "metadata": {},
   "outputs": [],
   "source": [
    "p_sig = 0.05\n",
    "for col in df_cancer.columns[2:5]:\n",
    "    t, pvalue= st.ttest_ind(df_cancer[col],df_normal[col], equal_var = False, alternative = 'two-sided')\n",
    "    print(t, pvalue)\n",
    "    if pvalue < p_sig:\n",
    "        print(\"df_cancer_mean is not equal df_normal_mean\")\n",
    "    else:\n",
    "        print(\"there is no difference between 2 populations\")"
   ]
  },
  {
   "cell_type": "code",
   "execution_count": null,
   "id": "a49c8c2e",
   "metadata": {},
   "outputs": [],
   "source": [
    "p_sig = 0.05\n",
    "differential_expressed_genes = []\n",
    "for col in df_cancer.columns[2:]:\n",
    "    t, pvalue= st.ttest_ind(df_cancer[col],df_normal[col], equal_var = False, alternative = 'two-sided')\n",
    "    if pvalue < p_sig:\n",
    "        differential_expressed_genes.append(str(col))\n",
    "differential_expressed_genes \n"
   ]
  },
  {
   "cell_type": "code",
   "execution_count": null,
   "id": "6955de7f",
   "metadata": {
    "scrolled": true
   },
   "outputs": [],
   "source": [
    "len(differential_expressed_genes)"
   ]
  },
  {
   "cell_type": "code",
   "execution_count": null,
   "id": "6fd59008",
   "metadata": {},
   "outputs": [],
   "source": [
    "df['type']"
   ]
  },
  {
   "cell_type": "code",
   "execution_count": null,
   "id": "2496b737",
   "metadata": {},
   "outputs": [],
   "source": [
    "deg_df = df[['samples', 'type'] + differential_expressed_genes]\n",
    "deg_df"
   ]
  },
  {
   "cell_type": "code",
   "execution_count": null,
   "id": "92913b6a",
   "metadata": {},
   "outputs": [],
   "source": [
    "df[differential_expressed_genes]"
   ]
  },
  {
   "cell_type": "code",
   "execution_count": null,
   "id": "badcb55a",
   "metadata": {
    "scrolled": true
   },
   "outputs": [],
   "source": [
    "corr_matrix_df = df[differential_expressed_genes].corr()"
   ]
  },
  {
   "cell_type": "code",
   "execution_count": null,
   "id": "cf7fd8d2",
   "metadata": {
    "scrolled": true
   },
   "outputs": [],
   "source": [
    "corr_matrix_df"
   ]
  },
  {
   "cell_type": "code",
   "execution_count": null,
   "id": "e51429ab",
   "metadata": {},
   "outputs": [],
   "source": [
    "pd.DataFrame(corr_matrix_df.iterrows())\n",
    "corr_matrix_df.row.items()"
   ]
  },
  {
   "cell_type": "code",
   "execution_count": null,
   "id": "a651323c-7ffb-46b4-a53d-f24a22f20378",
   "metadata": {},
   "outputs": [],
   "source": [
    "def find_correlated_genes_optimized(r_values, threshold=0.95):\n",
    "    correlated_genes_list = []\n",
    "\n",
    "    # Create a mask for values above the threshold\n",
    "    mask = (r_values.to_numpy() > threshold) & (r_values.index.to_numpy() != r_values.columns.to_numpy()[:, None])\n",
    "\n",
    "    # Extract the column and index names where the mask is True\n",
    "    correlated_columns, correlated_rows = np.where(mask)\n",
    "\n",
    "    for col, index in zip(r_values.columns[correlated_columns], r_values.index[correlated_rows]):\n",
    "        value = r_values.at[index, col]\n",
    "        correlated_genes_list.append([col, value, index])\n",
    "\n",
    "    return correlated_genes_list"
   ]
  },
  {
   "cell_type": "code",
   "execution_count": null,
   "id": "40e47ecd",
   "metadata": {},
   "outputs": [],
   "source": [
    "list_correlated_genes = []\n",
    "\n",
    "for index, row in corr_matrix_df.iterrows():\n",
    "    for col, value in row.items():\n",
    "\n",
    "        if (value > 0.95) & (col != index):\n",
    "            list_correlated_genes.append([col, value, index])"
   ]
  },
  {
   "cell_type": "code",
   "execution_count": null,
   "id": "d4997d7a-62a3-4d3b-93ea-4ab0f01eecf3",
   "metadata": {},
   "outputs": [],
   "source": [
    "display(list_correlated_genes)\n",
    "len(list_correlated_genes)"
   ]
  },
  {
   "cell_type": "code",
   "execution_count": null,
   "id": "21a09cf2",
   "metadata": {},
   "outputs": [],
   "source": [
    "for col in df_cancer.columns[2:5]:\n",
    "    print( (df_cancer[col].mean()) - (df_normal[col].mean())\n",
    "    "
   ]
  },
  {
   "cell_type": "code",
   "execution_count": null,
   "id": "ab70222d",
   "metadata": {},
   "outputs": [],
   "source": [
    "for col in df_cancer.columns[2:20]:\n",
    "    t, pvalue= st.normaltest(df_cancer[col],df_normal[col].mean(), alternative = 'two-sided')\n",
    "    print(t, pvalue)"
   ]
  },
  {
   "cell_type": "code",
   "execution_count": null,
   "id": "26de60b0",
   "metadata": {},
   "outputs": [],
   "source": [
    "df_normal['NM_004900'].mean()"
   ]
  },
  {
   "cell_type": "code",
   "execution_count": null,
   "id": "0f2c7444",
   "metadata": {},
   "outputs": [],
   "source": [
    "df['type'].value_counts()\n"
   ]
  },
  {
   "cell_type": "markdown",
   "id": "3aadd0b6",
   "metadata": {},
   "source": [
    "Qs\n",
    "Monday morning (Explore) / afternoon Teusday Start answering\n",
    "* What is the difference in GE profile between Tumoral and Normal\n",
    "    * Are there any expression of interest (different between normal and tumoral?)\n",
    "        - Does the mean/mode of the Tumoral and Normal compare, what are the differences?\n",
    "        - Possible Bar graph from mean/mode from tumoral and Normal?\n",
    "    * What is the overall differences between expression within the groups Tumoral/Normal?\n",
    "        - Check if there are any outliers (possible high values per sample)\n",
    "        - Check if something is overexpressed (higher than mean of normal) is this overall in tumoral, or only spiked in one sample\n",
    "        - Possible Normalized line graph (sample to samplem, tumoral expression - control normal expression)\n",
    "        - come up with maybe another to do visualize this?\n",
    "    * Are there any genes correlated with eachtother (possible same pathway)\n",
    "        - Check corraltion matrix on numericals\n",
    "        - Pick 5 ten of correlated Genes/Probes\n",
    "        - (Optionally) We can check some papers if really correlated\n",
    ">> Might possible need some cleaning here?\n",
    "    Are the genes between data sets the same?\n",
    "Wednesday / Thursday\n",
    "* What are the differences between to different types of Tumoral datasets?\n",
    "    * Are the interesting picks the same between the different sets?\n",
    "Thursday Morning\n",
    "Prep the slides\n",
    "- Dogma\n",
    "- Why, Data science >3 min\n",
    "- Grpahs >3 min"
   ]
  },
  {
   "cell_type": "code",
   "execution_count": null,
   "id": "46f7616f",
   "metadata": {
    "scrolled": true
   },
   "outputs": [],
   "source": [
    "meta = pd.read_csv('/Users/minhnguyen/Downloads/GPL6480_limpo.txt', delimiter = '\\t')\n",
    "meta.head()"
   ]
  },
  {
   "cell_type": "code",
   "execution_count": null,
   "id": "57961238-f6a5-4c4e-a10d-a7c87c3eb78b",
   "metadata": {},
   "outputs": [],
   "source": [
    "meta['GO_ID'].value_counts()"
   ]
  },
  {
   "cell_type": "markdown",
   "id": "03b73e03-6519-46f3-b20c-8bd7d6731d59",
   "metadata": {},
   "source": []
  }
 ],
 "metadata": {
  "kernelspec": {
   "display_name": "venv",
   "language": "python",
   "name": "venv"
  },
  "language_info": {
   "codemirror_mode": {
    "name": "ipython",
    "version": 3
   },
   "file_extension": ".py",
   "mimetype": "text/x-python",
   "name": "python",
   "nbconvert_exporter": "python",
   "pygments_lexer": "ipython3",
   "version": "3.11.5"
  }
 },
 "nbformat": 4,
 "nbformat_minor": 5
}
