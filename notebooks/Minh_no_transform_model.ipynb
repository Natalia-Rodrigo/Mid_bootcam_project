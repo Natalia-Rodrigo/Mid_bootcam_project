{
 "cells": [
  {
   "cell_type": "code",
   "execution_count": null,
   "id": "4c626a64-d0b8-4547-a1b6-a6f1ad45c2d0",
   "metadata": {},
   "outputs": [],
   "source": [
    "import pandas as pd\n",
    "import numpy as np\n",
    "import seaborn as sns\n",
    "import matplotlib.pyplot as plt\n",
    "import functions\n",
    "%matplotlib inline\n"
   ]
  },
  {
   "cell_type": "markdown",
   "id": "c17420f3-dd93-426c-a3b9-33c842c6f86b",
   "metadata": {},
   "source": [
    "# General information:\n",
    "The midbootcamp project: Can we predict cancer using gene expression profile?\n",
    "\n",
    "# To approach this objective:\n",
    "1. select gene expression datasets for different types of cancers\n",
    "2. Data checking, cleaning, transform if needed\n",
    "3. Identify genes that are differentially expressed (called DEGs) in cancer samples vs normal samples. Using two samples t-test at p_sig = 0.05\n",
    "4. Check and excluding genes that are highly correlated among the identified DEGs subset with a threshold for exluding at 0.95\n",
    "5. Split and train model on working datasets:\n",
    "    * using transformed data (using quantile transformation) vs non-transformed data \n",
    "6. Validation:\n",
    "   * on the whole (train + test) dataset\n",
    "   * using a new dataset of the same cancer type\n",
    "   * calculation all validation metrics: precision, accuracy, recel, F1, cohen_kappa_score\n",
    "     \n",
    "# From the GEO database, we selected 3 expression profiling datasets for 3 types of cancers: prostate, breats, leukemia\n",
    "1. link for download gene expression dataset: https://sbcb.inf.ufrgs.br/cumida\n",
    "2. every dataset has it unique identifier as accession number GSE\n",
    "3. For breast cancer dataset, accession number is GSE22820\n",
    "    Description: it is expression profiling by array, generated from 176 primary breast cancer patients and 10 normal breast samples.\n",
    "NOTE: however, when loading this dataset, there are only 129 primary breast cancer patients and 10 normal breast samples.\n",
    "This should not affect the analysis.\n",
    "4. since these datasets are repositories from different research groups to NCBI database (GEO), the format and setup is already standardized. Therefore, most likely, it will not require a cleaning process.\n",
    "     "
   ]
  },
  {
   "cell_type": "code",
   "execution_count": null,
   "id": "ed3dd82e-e41f-4352-b600-34a0166d15c1",
   "metadata": {},
   "outputs": [],
   "source": [
    "# load the gene expression dataset GSE22820\n",
    "\n",
    "path = '/Users/minhnguyen/IronHack2023-2024/Bootcamp/Labs/5_Mid_bootcamp_project_venv/data/Breast_GSE22820.csv'\n",
    "df = pd.read_csv(path)\n",
    "df.head(10)"
   ]
  }
 ],
 "metadata": {
  "kernelspec": {
   "display_name": "venv",
   "language": "python",
   "name": "venv"
  },
  "language_info": {
   "codemirror_mode": {
    "name": "ipython",
    "version": 3
   },
   "file_extension": ".py",
   "mimetype": "text/x-python",
   "name": "python",
   "nbconvert_exporter": "python",
   "pygments_lexer": "ipython3",
   "version": "3.11.4"
  }
 },
 "nbformat": 4,
 "nbformat_minor": 5
}
