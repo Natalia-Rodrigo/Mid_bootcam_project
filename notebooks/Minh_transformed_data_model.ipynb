{
 "cells": [
  {
   "cell_type": "code",
   "execution_count": null,
   "id": "0037720d-4f5b-4606-8f8c-bebc08d1d6db",
   "metadata": {},
   "outputs": [],
   "source": [
    "import pandas as pd\n",
    "import numpy as np\n",
    "import seaborn as sns\n",
    "import matplotlib.pyplot as plt\n",
    "import functions\n",
    "%matplotlib inline"
   ]
  },
  {
   "cell_type": "code",
   "execution_count": null,
   "id": "fe719327-4d2b-4d6b-9b0b-1f04cf86bc1f",
   "metadata": {},
   "outputs": [],
   "source": [
    "# load the gene expression dataset GSE22820\n",
    "\n",
    "path = '/Users/minhnguyen/IronHack2023-2024/Bootcamp/Labs/5_Mid_bootcamp_project_venv/data/Breast_GSE22820.csv'\n",
    "df = pd.read_csv(path)\n",
    "df.head(10)"
   ]
  },
  {
   "cell_type": "code",
   "execution_count": null,
   "id": "481d4e38-db92-4b6f-978d-88e5ed0f3385",
   "metadata": {},
   "outputs": [],
   "source": [
    "from sklearn.preprocessing import QuantileTransformer\n",
    "def quantileTransformer1(df:pd.DataFrame, qt = None):\n",
    "    \"\"\"\n",
    "    Apply quantile transformation to a DataFrame, transforming numerical columns to follow a normal distribution.\n",
    "\n",
    "    Parameters:\n",
    "    - df (pd.DataFrame): Input DataFrame containing numerical data for transformation.\n",
    "    - qt (QuantileTransformer or None, optional): An existing QuantileTransformer object to apply, or None to fit a new one. Default is None.\n",
    "\n",
    "    Returns:\n",
    "    - Tuple: A tuple containing two elements:\n",
    "        1. pd.DataFrame: Transformed DataFrame with numerical columns following a normal distribution.\n",
    "        2. QuantileTransformer: The fitted or provided QuantileTransformer object.\n",
    "    \"\"\"\n",
    "    df_transformed = df.copy()\n",
    "\n",
    "    if qt is None:\n",
    "        # Fit new dataset, if none is given\n",
    "        qt = QuantileTransformer (output_distribution ='normal')\n",
    "        qt.fit(df_transformed[df_transformed.columns[2:]])\n",
    "    \n",
    "    # Apply Transformation to data set\n",
    "    df_transformed[df_transformed.columns[2:]] = qt.transform(df_transformed[df_transformed.columns[2:]])\n",
    "    return df_transformed, qt"
   ]
  },
  {
   "cell_type": "code",
   "execution_count": null,
   "id": "f8397ba0-c3b3-45f4-b83a-cbfdfc79115b",
   "metadata": {},
   "outputs": [],
   "source": [
    "# transform data using quantileTransfromer function\n",
    "df_transformed, qt = quantileTransformer1(df)"
   ]
  },
  {
   "cell_type": "code",
   "execution_count": null,
   "id": "cc112bbc-34be-4d2b-ae85-5b9795556dee",
   "metadata": {
    "scrolled": true
   },
   "outputs": [],
   "source": [
    "df_transformed"
   ]
  },
  {
   "cell_type": "code",
   "execution_count": null,
   "id": "8d6a72be-8a4e-4480-87c0-8370527d03e7",
   "metadata": {},
   "outputs": [],
   "source": [
    "qt"
   ]
  },
  {
   "cell_type": "code",
   "execution_count": null,
   "id": "7ec939f7-95d6-49df-8d6a-d5b8bf5f9029",
   "metadata": {},
   "outputs": [],
   "source": [
    "# melting the df_transformed for boxplot\n",
    "melted_df_transformed = df_transformed.melt(id_vars=['samples', 'type'], var_name='gene', value_name='expression')\n",
    "melted_df_transformed"
   ]
  },
  {
   "cell_type": "code",
   "execution_count": null,
   "id": "59a65823-6644-453f-92ef-e766ce19113e",
   "metadata": {},
   "outputs": [],
   "source": [
    "# plot qt transformed data on boxplot\n",
    "\n",
    "plt.figure(figsize=(20, 8))  # Adjust figure size if needed\n",
    "sns.boxplot(x = 'samples',  y='expression', hue = 'type',  data=melted_df_transformed, width = 0.3)\n",
    "plt.xticks(rotation=90)  # Rotate x-axis labels for better readability\n",
    "plt.legend(loc = 'upper right')\n",
    "\n",
    "# Show the plot\n",
    "plt.tight_layout()\n",
    "plt.show()"
   ]
  },
  {
   "cell_type": "code",
   "execution_count": null,
   "id": "b85d11fe-2cc5-480e-95e1-dc21954e2adf",
   "metadata": {},
   "outputs": [],
   "source": [
    "import scipy.stats as st\n",
    "def getListDifferentialGenes1(df:pd.DataFrame, psig=0.05, tumor_value = 'tumoral', tumor_column = 'type'):\n",
    "    \"\"\"\n",
    "    Identify differentially expressed genes between a specified tumor group and the rest of the samples in a DataFrame.\n",
    "\n",
    "    Parameters:\n",
    "    - df (pd.DataFrame): Input DataFrame containing gene expression data.\n",
    "    - psig (float, optional): Significance threshold for identifying differentially expressed genes. Default is 0.05.\n",
    "    - tumor_value (str, optional): The specific tumor group for which differential expression is assessed. Default is 'tumoral'.\n",
    "    - tumor_column (str, optional): The column defining the tumor groups. Default is 'type'.\n",
    "\n",
    "    Returns:\n",
    "    - list: A list of gene names that are differentially expressed in the specified tumor group based on a t-test.\n",
    "    \"\"\"    \n",
    "    df2 = df.copy()\n",
    "\n",
    "    df_cancer = df2[df2[tumor_column]==tumor_value]\n",
    "    df_normal = df2[df2[tumor_column]!=tumor_value]\n",
    "\n",
    "    differential_expressed_genes = []\n",
    "    for col in df_cancer.columns[2:]:\n",
    "        t, pvalue= st.ttest_ind(df_cancer[col],df_normal[col], equal_var = False, alternative = 'two-sided')\n",
    "        if pvalue < psig:\n",
    "            differential_expressed_genes.append(str(col))\n",
    "\n",
    "    return differential_expressed_genes"
   ]
  },
  {
   "cell_type": "code",
   "execution_count": null,
   "id": "6fe56baf-44f3-4414-8605-b3a9dad70368",
   "metadata": {},
   "outputs": [],
   "source": [
    "# identify differential expressed genes\n",
    "\n",
    "differential_expressed_genes = getListDifferentialGenes1(df_transformed, tumor_value = 'primary_breast_cancer', tumor_column = 'type')"
   ]
  },
  {
   "cell_type": "code",
   "execution_count": null,
   "id": "1d86f536-0cba-465a-a891-6dc6e055e044",
   "metadata": {},
   "outputs": [],
   "source": [
    "differential_expressed_genes\n"
   ]
  },
  {
   "cell_type": "code",
   "execution_count": null,
   "id": "1b532c6e-9b76-4c34-9fbb-9e3f903fac7e",
   "metadata": {},
   "outputs": [],
   "source": [
    "len(differential_expressed_genes)"
   ]
  },
  {
   "cell_type": "code",
   "execution_count": null,
   "id": "6498c223-6cf5-4744-af6c-c3d588216464",
   "metadata": {},
   "outputs": [],
   "source": [
    "df_tranformed_DEG = df_transformed.copy()\n",
    "df_tranformed_DEG = df_tranformed_DEG[['samples', 'type'] + differential_expressed_genes]"
   ]
  },
  {
   "cell_type": "code",
   "execution_count": null,
   "id": "c8b3b12d-89f6-41c7-9a61-a747fb07d89d",
   "metadata": {},
   "outputs": [],
   "source": [
    "df_tranformed_DEG"
   ]
  },
  {
   "cell_type": "code",
   "execution_count": null,
   "id": "ef557720-d594-4510-b927-50135ad4c6d4",
   "metadata": {},
   "outputs": [],
   "source": [
    "# model training without get rid of correlated variables\n",
    "model, cm, scores = functions.trainLogisticModel(df_tranformed_DEG, ColumnToPredict='type', tumor_value = 'primary_breast_cancer')"
   ]
  },
  {
   "cell_type": "code",
   "execution_count": null,
   "id": "bf489ed9-02ec-4b56-a6f7-8fc2b4d816a8",
   "metadata": {},
   "outputs": [],
   "source": [
    "model"
   ]
  },
  {
   "cell_type": "code",
   "execution_count": null,
   "id": "709f63be-c76a-4f37-bd80-5d5f3036dd13",
   "metadata": {},
   "outputs": [],
   "source": [
    "y_pred = model.predict(X = df_tranformed_DEG.drop(columns = ['samples', 'type']))\n",
    "y_test = df_tranformed_DEG['type']"
   ]
  },
  {
   "cell_type": "code",
   "execution_count": null,
   "id": "0566bc7e-76df-4355-8b79-64d826ef5abb",
   "metadata": {},
   "outputs": [],
   "source": [
    "functions.LogisticModelView(model, y_pred, y_test, pos_label = 'primary_breast_cancer')"
   ]
  },
  {
   "cell_type": "code",
   "execution_count": null,
   "id": "e39ca03c-dba5-4cdb-9c3d-cc006f0b7556",
   "metadata": {},
   "outputs": [],
   "source": []
  },
  {
   "cell_type": "code",
   "execution_count": null,
   "id": "c4dece93-6e58-4d3f-95ef-ae3372922a08",
   "metadata": {},
   "outputs": [],
   "source": []
  },
  {
   "cell_type": "code",
   "execution_count": null,
   "id": "8f1ba8bc-fcdd-4fa4-8a58-9d55c2a7826a",
   "metadata": {},
   "outputs": [],
   "source": [
    "r_values = df_tranformed_DEG[2:].corr()\n"
   ]
  },
  {
   "cell_type": "code",
   "execution_count": null,
   "id": "0df824ab-e2bf-4e20-ad4e-f95e03eac7a2",
   "metadata": {},
   "outputs": [],
   "source": [
    "# Create a mask for values above the threshold\n",
    "mask = (r_values.to_numpy() > 0.95) & (r_values.index.to_numpy() != r_values.columns.to_numpy()[:, None])\n",
    "\n",
    "# Extract the column and index names where the mask is True\n",
    "correlated_columns, correlated_rows = np.where(mask)\n",
    "\n",
    "    for col, index in zip(r_values.columns[correlated_columns], r_values.index[correlated_rows]):\n",
    "        value = r_values.at[index, col]\n",
    "        correlated_genes_list.append([col, value, index])\n",
    "\n",
    "    exclude_list = []\n",
    "    included_columns = []\n",
    "\n",
    "    for col in correlated_genes_list:\n",
    "        if col not in included_columns:\n",
    "            exclude_list.append(col[0])\n",
    "            included_columns.append(col[2])\n",
    "\n",
    "    return correlated_genes_list, exclude_list, r_values"
   ]
  },
  {
   "cell_type": "code",
   "execution_count": null,
   "id": "954b64bb-c0be-4b11-b8e8-8cf469c074b2",
   "metadata": {},
   "outputs": [],
   "source": []
  },
  {
   "cell_type": "code",
   "execution_count": null,
   "id": "879c50a5-84b0-4edd-a495-663d611007d6",
   "metadata": {},
   "outputs": [],
   "source": [
    "import pandas as pd\n",
    "import seaborn as sns\n",
    "import matplotlib.pyplot as plt\n",
    "\n",
    "# Create a sample DataFrame\n",
    "data = {'A': [1, 2, 3, 4],\n",
    "        'B': [2, 4, 6, 8],\n",
    "        'C': [1, 1, 1, 1],\n",
    "        'D': [5, 4, 3, 2]}\n",
    "\n",
    "df = pd.DataFrame(data)\n",
    "\n",
    "# Calculate the correlation matrix\n",
    "corr_matrix = df.corr()\n",
    "\n",
    "# Set the threshold for correlation\n",
    "threshold = 0.8  # You can adjust this threshold as needed\n",
    "\n",
    "# Find highly correlated pairs\n",
    "highly_correlated_pairs = (corr_matrix.abs() > threshold) & (corr_matrix.abs() < 1)\n",
    "\n",
    "# Print the highly correlated pairs\n",
    "print(\"Highly correlated pairs:\")\n",
    "for col in df.columns:\n",
    "    correlated_cols = highly_correlated_pairs[col][highly_correlated_pairs[col]].index.tolist()\n",
    "    for correlated_col in correlated_cols:\n",
    "        if correlated_col != col:\n",
    "            print(f\"{col} and {correlated_col}: {corr_matrix.loc[col, correlated_col]:.2f}\")\n",
    "\n",
    "# Visualize the correlation matrix using seaborn\n",
    "sns.heatmap(corr_matrix, annot=True, cmap='coolwarm', vmin=-1, vmax=1)\n",
    "plt.title('Correlation Matrix')\n",
    "plt.show()\n"
   ]
  },
  {
   "cell_type": "code",
   "execution_count": null,
   "id": "6edb0246-6601-40c0-b6df-29b2bb5053bc",
   "metadata": {},
   "outputs": [],
   "source": [
    "# testing function from Tim\n",
    "# Create a sample DataFrame\n",
    "d = {'x1': [1, 4, 4, 5, 6, 0, 0, 8, 2, 4], \n",
    "     'x2': [0, 0, 8, 2, 4,2, 8, 8, 10, 12], \n",
    "     'x3': [2, 8, 8, 10, 12,-1, -4, -4, -4, -5], \n",
    "     'x4': [-1, -4, -4, -4, -5,1, 4, 4, 5, 6],\n",
    "    'x5': [1, 4, 4, 5, 6, 0, 0, 8, 2, 4], \n",
    "     'x6': [0, 0, 8, 2, 4,2, 8, 8, 10, 12], \n",
    "     'x7': [2, 8, 8, 10, 12,-1, -4, -4, -4, -5], \n",
    "     'x8': [-1, -4, -4, -4, -5,1, 4, 4, 5, 6]}\n",
    "\n",
    "df_test = pd.DataFrame(d)\n",
    "df_test"
   ]
  },
  {
   "cell_type": "code",
   "execution_count": null,
   "id": "a353f9eb-df37-4360-b026-ffd39f806c4c",
   "metadata": {},
   "outputs": [],
   "source": [
    "# Calculate the correlation matrix\n",
    "corr_matrix = df_test.corr()\n",
    "corr_matrix"
   ]
  },
  {
   "cell_type": "code",
   "execution_count": null,
   "id": "c56adbce-581e-4933-979f-8f383e9ee517",
   "metadata": {},
   "outputs": [],
   "source": [
    "highly_correlated_pairs = (corr_matrix.abs() > 0.5) & (corr_matrix.abs() < 1)\n",
    "highly_correlated_pairs\n",
    "for col in df_test.columns:\n",
    "    correlated_cols = highly_correlated_pairs[col][highly_correlated_pairs[col]].index.tolist()\n",
    "    correlated_cols\n",
    "    #for correlated_col in correlated_cols:\n",
    "     #   if correlated_col != col:\n",
    "            #print(f\"{col} and {correlated_col}: {corr_matrix.loc[col, correlated_col]:.2f}\")\n",
    "correlated_cols"
   ]
  },
  {
   "cell_type": "code",
   "execution_count": null,
   "id": "f6bb740a-2954-42cd-8da0-b983ba8ae35b",
   "metadata": {},
   "outputs": [],
   "source": [
    "# test function from Tim --> seem to not working\n",
    "\n",
    "correlated_genes_list = []\n",
    "mask = (corr_matrix.to_numpy() > 0.5) & (corr_matrix.index.to_numpy() != corr_matrix.columns.to_numpy()[:, None])\n",
    "correlated_columns, correlated_rows = np.where(mask)\n",
    "for col, index in zip(corr_matrix.columns[correlated_columns], corr_matrix.index[correlated_rows]):\n",
    "    value = corr_matrix.at[index, col]\n",
    "    correlated_genes_list.append([col, value, index])\n",
    "\n",
    "exclude_list = []\n",
    "included_columns = []\n",
    "\n",
    "for col in correlated_genes_list:\n",
    "    if col[0] not in included_columns:\n",
    "        exclude_list.append(col[0])\n",
    "        included_columns.append(col[2])\n",
    "display(correlated_genes_list)\n",
    "display(exclude_list)\n",
    "display(included_columns)"
   ]
  },
  {
   "cell_type": "code",
   "execution_count": null,
   "id": "2967833c-9ff4-4807-9135-d34abc4e243e",
   "metadata": {},
   "outputs": [],
   "source": [
    "correlated_genes_list[0]"
   ]
  },
  {
   "cell_type": "code",
   "execution_count": null,
   "id": "15576b0b-4236-4696-84bf-fcbcd365774a",
   "metadata": {},
   "outputs": [],
   "source": [
    "exclude_list_1 = []\n",
    "included_columns_1 = []\n",
    "for col in correlated_genes_list:\n",
    "    print(col)\n",
    "    print(col[0])\n",
    "    print(col[2])\n",
    "    if col[0] not in included_columns_1:\n",
    "        print( col[0] not in included_columns_1)\n",
    "        exclude_list_1.append(col[0])\n",
    "        included_columns_1.append(col[2])\n",
    "        display(exclude_list_1)\n",
    "        display(included_columns_1)\n"
   ]
  },
  {
   "cell_type": "code",
   "execution_count": null,
   "id": "3150f3ee-8992-4ef9-8067-608e5e8361c6",
   "metadata": {},
   "outputs": [],
   "source": [
    "# Set the threshold for correlation\n",
    "threshold = 0.8  # You can adjust this threshold as needed\n",
    "\n",
    "# Find highly correlated pairs\n",
    "highly_correlated_pairs = (corr_matrix.abs() > threshold) & (corr_matrix.abs() < 1)\n",
    "highly_correlated_pairs"
   ]
  },
  {
   "cell_type": "code",
   "execution_count": null,
   "id": "288bb8dd-24ba-4f12-bb07-11b17fd49b02",
   "metadata": {},
   "outputs": [],
   "source": [
    "highly_correlated_pairs[col][highly_correlated_pairs[col]].index.tolist()"
   ]
  },
  {
   "cell_type": "code",
   "execution_count": null,
   "id": "e7653cf5-bad6-408b-a25d-58407cc6efeb",
   "metadata": {},
   "outputs": [],
   "source": [
    "cor_list=highly_correlated_pairs['x1'][highly_correlated_pairs['x1']].index.tolist()\n",
    "cor_list"
   ]
  }
 ],
 "metadata": {
  "kernelspec": {
   "display_name": "venv",
   "language": "python",
   "name": "venv"
  },
  "language_info": {
   "codemirror_mode": {
    "name": "ipython",
    "version": 3
   },
   "file_extension": ".py",
   "mimetype": "text/x-python",
   "name": "python",
   "nbconvert_exporter": "python",
   "pygments_lexer": "ipython3",
   "version": "3.11.4"
  }
 },
 "nbformat": 4,
 "nbformat_minor": 5
}
